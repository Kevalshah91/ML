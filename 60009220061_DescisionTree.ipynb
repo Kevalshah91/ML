{
  "nbformat": 4,
  "nbformat_minor": 0,
  "metadata": {
    "colab": {
      "provenance": []
    },
    "kernelspec": {
      "name": "python3",
      "display_name": "Python 3"
    },
    "language_info": {
      "name": "python"
    }
  },
  "cells": [
    {
      "cell_type": "markdown",
      "source": [
        "**Name:** Keval R Shah  \n",
        "**SAP:** 60009220061  \n",
        "**Batch :** D2-1  \n",
        "**Lab:** ML Lab 2\n"
      ],
      "metadata": {
        "id": "z-XDZqV8FRx8"
      }
    },
    {
      "cell_type": "code",
      "execution_count": 1,
      "metadata": {
        "id": "ApolLENv2m-t",
        "colab": {
          "base_uri": "https://localhost:8080/",
          "height": 0
        },
        "outputId": "0024ac57-5b7b-4d72-a07f-5a927a5b77a8"
      },
      "outputs": [
        {
          "output_type": "stream",
          "name": "stdout",
          "text": [
            "sample_data  tennis.xlsx\n"
          ]
        }
      ],
      "source": [
        "!ls"
      ]
    },
    {
      "cell_type": "code",
      "source": [
        "import numpy as np\n",
        "import pandas as pd"
      ],
      "metadata": {
        "id": "d03ZFp264gvi"
      },
      "execution_count": 3,
      "outputs": []
    },
    {
      "cell_type": "code",
      "source": [
        "df = pd.read_excel('tennis.xlsx')"
      ],
      "metadata": {
        "id": "SBXXXHdK4aIT"
      },
      "execution_count": 4,
      "outputs": []
    },
    {
      "cell_type": "code",
      "source": [
        "df.head(5)"
      ],
      "metadata": {
        "colab": {
          "base_uri": "https://localhost:8080/",
          "height": 206
        },
        "id": "JZlT-5dW4fg0",
        "outputId": "0e2598f0-0331-4edd-8d81-9bdb0ab25e92"
      },
      "execution_count": 5,
      "outputs": [
        {
          "output_type": "execute_result",
          "data": {
            "text/plain": [
              "  day   outlook  temp humidity    wind tennis\n",
              "0  d1     sunny   hot     high    weak     no\n",
              "1  d2     sunny   hot     high  strong     no\n",
              "2  d3  overcast   hot     high    weak    yes\n",
              "3  d4      rain  mild     high    weak    yes\n",
              "4  d5      rain  cool   normal    weak    yes"
            ],
            "text/html": [
              "\n",
              "  <div id=\"df-13bd5502-e00f-4f59-8790-9f9c55b565d5\" class=\"colab-df-container\">\n",
              "    <div>\n",
              "<style scoped>\n",
              "    .dataframe tbody tr th:only-of-type {\n",
              "        vertical-align: middle;\n",
              "    }\n",
              "\n",
              "    .dataframe tbody tr th {\n",
              "        vertical-align: top;\n",
              "    }\n",
              "\n",
              "    .dataframe thead th {\n",
              "        text-align: right;\n",
              "    }\n",
              "</style>\n",
              "<table border=\"1\" class=\"dataframe\">\n",
              "  <thead>\n",
              "    <tr style=\"text-align: right;\">\n",
              "      <th></th>\n",
              "      <th>day</th>\n",
              "      <th>outlook</th>\n",
              "      <th>temp</th>\n",
              "      <th>humidity</th>\n",
              "      <th>wind</th>\n",
              "      <th>tennis</th>\n",
              "    </tr>\n",
              "  </thead>\n",
              "  <tbody>\n",
              "    <tr>\n",
              "      <th>0</th>\n",
              "      <td>d1</td>\n",
              "      <td>sunny</td>\n",
              "      <td>hot</td>\n",
              "      <td>high</td>\n",
              "      <td>weak</td>\n",
              "      <td>no</td>\n",
              "    </tr>\n",
              "    <tr>\n",
              "      <th>1</th>\n",
              "      <td>d2</td>\n",
              "      <td>sunny</td>\n",
              "      <td>hot</td>\n",
              "      <td>high</td>\n",
              "      <td>strong</td>\n",
              "      <td>no</td>\n",
              "    </tr>\n",
              "    <tr>\n",
              "      <th>2</th>\n",
              "      <td>d3</td>\n",
              "      <td>overcast</td>\n",
              "      <td>hot</td>\n",
              "      <td>high</td>\n",
              "      <td>weak</td>\n",
              "      <td>yes</td>\n",
              "    </tr>\n",
              "    <tr>\n",
              "      <th>3</th>\n",
              "      <td>d4</td>\n",
              "      <td>rain</td>\n",
              "      <td>mild</td>\n",
              "      <td>high</td>\n",
              "      <td>weak</td>\n",
              "      <td>yes</td>\n",
              "    </tr>\n",
              "    <tr>\n",
              "      <th>4</th>\n",
              "      <td>d5</td>\n",
              "      <td>rain</td>\n",
              "      <td>cool</td>\n",
              "      <td>normal</td>\n",
              "      <td>weak</td>\n",
              "      <td>yes</td>\n",
              "    </tr>\n",
              "  </tbody>\n",
              "</table>\n",
              "</div>\n",
              "    <div class=\"colab-df-buttons\">\n",
              "\n",
              "  <div class=\"colab-df-container\">\n",
              "    <button class=\"colab-df-convert\" onclick=\"convertToInteractive('df-13bd5502-e00f-4f59-8790-9f9c55b565d5')\"\n",
              "            title=\"Convert this dataframe to an interactive table.\"\n",
              "            style=\"display:none;\">\n",
              "\n",
              "  <svg xmlns=\"http://www.w3.org/2000/svg\" height=\"24px\" viewBox=\"0 -960 960 960\">\n",
              "    <path d=\"M120-120v-720h720v720H120Zm60-500h600v-160H180v160Zm220 220h160v-160H400v160Zm0 220h160v-160H400v160ZM180-400h160v-160H180v160Zm440 0h160v-160H620v160ZM180-180h160v-160H180v160Zm440 0h160v-160H620v160Z\"/>\n",
              "  </svg>\n",
              "    </button>\n",
              "\n",
              "  <style>\n",
              "    .colab-df-container {\n",
              "      display:flex;\n",
              "      gap: 12px;\n",
              "    }\n",
              "\n",
              "    .colab-df-convert {\n",
              "      background-color: #E8F0FE;\n",
              "      border: none;\n",
              "      border-radius: 50%;\n",
              "      cursor: pointer;\n",
              "      display: none;\n",
              "      fill: #1967D2;\n",
              "      height: 32px;\n",
              "      padding: 0 0 0 0;\n",
              "      width: 32px;\n",
              "    }\n",
              "\n",
              "    .colab-df-convert:hover {\n",
              "      background-color: #E2EBFA;\n",
              "      box-shadow: 0px 1px 2px rgba(60, 64, 67, 0.3), 0px 1px 3px 1px rgba(60, 64, 67, 0.15);\n",
              "      fill: #174EA6;\n",
              "    }\n",
              "\n",
              "    .colab-df-buttons div {\n",
              "      margin-bottom: 4px;\n",
              "    }\n",
              "\n",
              "    [theme=dark] .colab-df-convert {\n",
              "      background-color: #3B4455;\n",
              "      fill: #D2E3FC;\n",
              "    }\n",
              "\n",
              "    [theme=dark] .colab-df-convert:hover {\n",
              "      background-color: #434B5C;\n",
              "      box-shadow: 0px 1px 3px 1px rgba(0, 0, 0, 0.15);\n",
              "      filter: drop-shadow(0px 1px 2px rgba(0, 0, 0, 0.3));\n",
              "      fill: #FFFFFF;\n",
              "    }\n",
              "  </style>\n",
              "\n",
              "    <script>\n",
              "      const buttonEl =\n",
              "        document.querySelector('#df-13bd5502-e00f-4f59-8790-9f9c55b565d5 button.colab-df-convert');\n",
              "      buttonEl.style.display =\n",
              "        google.colab.kernel.accessAllowed ? 'block' : 'none';\n",
              "\n",
              "      async function convertToInteractive(key) {\n",
              "        const element = document.querySelector('#df-13bd5502-e00f-4f59-8790-9f9c55b565d5');\n",
              "        const dataTable =\n",
              "          await google.colab.kernel.invokeFunction('convertToInteractive',\n",
              "                                                    [key], {});\n",
              "        if (!dataTable) return;\n",
              "\n",
              "        const docLinkHtml = 'Like what you see? Visit the ' +\n",
              "          '<a target=\"_blank\" href=https://colab.research.google.com/notebooks/data_table.ipynb>data table notebook</a>'\n",
              "          + ' to learn more about interactive tables.';\n",
              "        element.innerHTML = '';\n",
              "        dataTable['output_type'] = 'display_data';\n",
              "        await google.colab.output.renderOutput(dataTable, element);\n",
              "        const docLink = document.createElement('div');\n",
              "        docLink.innerHTML = docLinkHtml;\n",
              "        element.appendChild(docLink);\n",
              "      }\n",
              "    </script>\n",
              "  </div>\n",
              "\n",
              "\n",
              "<div id=\"df-47f00e0a-3c09-4eaf-b982-5653d25c0240\">\n",
              "  <button class=\"colab-df-quickchart\" onclick=\"quickchart('df-47f00e0a-3c09-4eaf-b982-5653d25c0240')\"\n",
              "            title=\"Suggest charts\"\n",
              "            style=\"display:none;\">\n",
              "\n",
              "<svg xmlns=\"http://www.w3.org/2000/svg\" height=\"24px\"viewBox=\"0 0 24 24\"\n",
              "     width=\"24px\">\n",
              "    <g>\n",
              "        <path d=\"M19 3H5c-1.1 0-2 .9-2 2v14c0 1.1.9 2 2 2h14c1.1 0 2-.9 2-2V5c0-1.1-.9-2-2-2zM9 17H7v-7h2v7zm4 0h-2V7h2v10zm4 0h-2v-4h2v4z\"/>\n",
              "    </g>\n",
              "</svg>\n",
              "  </button>\n",
              "\n",
              "<style>\n",
              "  .colab-df-quickchart {\n",
              "      --bg-color: #E8F0FE;\n",
              "      --fill-color: #1967D2;\n",
              "      --hover-bg-color: #E2EBFA;\n",
              "      --hover-fill-color: #174EA6;\n",
              "      --disabled-fill-color: #AAA;\n",
              "      --disabled-bg-color: #DDD;\n",
              "  }\n",
              "\n",
              "  [theme=dark] .colab-df-quickchart {\n",
              "      --bg-color: #3B4455;\n",
              "      --fill-color: #D2E3FC;\n",
              "      --hover-bg-color: #434B5C;\n",
              "      --hover-fill-color: #FFFFFF;\n",
              "      --disabled-bg-color: #3B4455;\n",
              "      --disabled-fill-color: #666;\n",
              "  }\n",
              "\n",
              "  .colab-df-quickchart {\n",
              "    background-color: var(--bg-color);\n",
              "    border: none;\n",
              "    border-radius: 50%;\n",
              "    cursor: pointer;\n",
              "    display: none;\n",
              "    fill: var(--fill-color);\n",
              "    height: 32px;\n",
              "    padding: 0;\n",
              "    width: 32px;\n",
              "  }\n",
              "\n",
              "  .colab-df-quickchart:hover {\n",
              "    background-color: var(--hover-bg-color);\n",
              "    box-shadow: 0 1px 2px rgba(60, 64, 67, 0.3), 0 1px 3px 1px rgba(60, 64, 67, 0.15);\n",
              "    fill: var(--button-hover-fill-color);\n",
              "  }\n",
              "\n",
              "  .colab-df-quickchart-complete:disabled,\n",
              "  .colab-df-quickchart-complete:disabled:hover {\n",
              "    background-color: var(--disabled-bg-color);\n",
              "    fill: var(--disabled-fill-color);\n",
              "    box-shadow: none;\n",
              "  }\n",
              "\n",
              "  .colab-df-spinner {\n",
              "    border: 2px solid var(--fill-color);\n",
              "    border-color: transparent;\n",
              "    border-bottom-color: var(--fill-color);\n",
              "    animation:\n",
              "      spin 1s steps(1) infinite;\n",
              "  }\n",
              "\n",
              "  @keyframes spin {\n",
              "    0% {\n",
              "      border-color: transparent;\n",
              "      border-bottom-color: var(--fill-color);\n",
              "      border-left-color: var(--fill-color);\n",
              "    }\n",
              "    20% {\n",
              "      border-color: transparent;\n",
              "      border-left-color: var(--fill-color);\n",
              "      border-top-color: var(--fill-color);\n",
              "    }\n",
              "    30% {\n",
              "      border-color: transparent;\n",
              "      border-left-color: var(--fill-color);\n",
              "      border-top-color: var(--fill-color);\n",
              "      border-right-color: var(--fill-color);\n",
              "    }\n",
              "    40% {\n",
              "      border-color: transparent;\n",
              "      border-right-color: var(--fill-color);\n",
              "      border-top-color: var(--fill-color);\n",
              "    }\n",
              "    60% {\n",
              "      border-color: transparent;\n",
              "      border-right-color: var(--fill-color);\n",
              "    }\n",
              "    80% {\n",
              "      border-color: transparent;\n",
              "      border-right-color: var(--fill-color);\n",
              "      border-bottom-color: var(--fill-color);\n",
              "    }\n",
              "    90% {\n",
              "      border-color: transparent;\n",
              "      border-bottom-color: var(--fill-color);\n",
              "    }\n",
              "  }\n",
              "</style>\n",
              "\n",
              "  <script>\n",
              "    async function quickchart(key) {\n",
              "      const quickchartButtonEl =\n",
              "        document.querySelector('#' + key + ' button');\n",
              "      quickchartButtonEl.disabled = true;  // To prevent multiple clicks.\n",
              "      quickchartButtonEl.classList.add('colab-df-spinner');\n",
              "      try {\n",
              "        const charts = await google.colab.kernel.invokeFunction(\n",
              "            'suggestCharts', [key], {});\n",
              "      } catch (error) {\n",
              "        console.error('Error during call to suggestCharts:', error);\n",
              "      }\n",
              "      quickchartButtonEl.classList.remove('colab-df-spinner');\n",
              "      quickchartButtonEl.classList.add('colab-df-quickchart-complete');\n",
              "    }\n",
              "    (() => {\n",
              "      let quickchartButtonEl =\n",
              "        document.querySelector('#df-47f00e0a-3c09-4eaf-b982-5653d25c0240 button');\n",
              "      quickchartButtonEl.style.display =\n",
              "        google.colab.kernel.accessAllowed ? 'block' : 'none';\n",
              "    })();\n",
              "  </script>\n",
              "</div>\n",
              "\n",
              "    </div>\n",
              "  </div>\n"
            ],
            "application/vnd.google.colaboratory.intrinsic+json": {
              "type": "dataframe",
              "variable_name": "df",
              "summary": "{\n  \"name\": \"df\",\n  \"rows\": 14,\n  \"fields\": [\n    {\n      \"column\": \"day\",\n      \"properties\": {\n        \"dtype\": \"string\",\n        \"samples\": [\n          \"d10\",\n          \"d12\",\n          \"d1\"\n        ],\n        \"num_unique_values\": 14,\n        \"semantic_type\": \"\",\n        \"description\": \"\"\n      }\n    },\n    {\n      \"column\": \"outlook\",\n      \"properties\": {\n        \"dtype\": \"category\",\n        \"samples\": [\n          \"sunny\",\n          \"overcast\",\n          \"rain\"\n        ],\n        \"num_unique_values\": 3,\n        \"semantic_type\": \"\",\n        \"description\": \"\"\n      }\n    },\n    {\n      \"column\": \"temp\",\n      \"properties\": {\n        \"dtype\": \"category\",\n        \"samples\": [\n          \"hot\",\n          \"mild\",\n          \"cool\"\n        ],\n        \"num_unique_values\": 3,\n        \"semantic_type\": \"\",\n        \"description\": \"\"\n      }\n    },\n    {\n      \"column\": \"humidity\",\n      \"properties\": {\n        \"dtype\": \"category\",\n        \"samples\": [\n          \"normal\",\n          \"high\"\n        ],\n        \"num_unique_values\": 2,\n        \"semantic_type\": \"\",\n        \"description\": \"\"\n      }\n    },\n    {\n      \"column\": \"wind\",\n      \"properties\": {\n        \"dtype\": \"category\",\n        \"samples\": [\n          \"strong\",\n          \"weak\"\n        ],\n        \"num_unique_values\": 2,\n        \"semantic_type\": \"\",\n        \"description\": \"\"\n      }\n    },\n    {\n      \"column\": \"tennis\",\n      \"properties\": {\n        \"dtype\": \"category\",\n        \"samples\": [\n          \"yes\",\n          \"no\"\n        ],\n        \"num_unique_values\": 2,\n        \"semantic_type\": \"\",\n        \"description\": \"\"\n      }\n    }\n  ]\n}"
            }
          },
          "metadata": {},
          "execution_count": 5
        }
      ]
    },
    {
      "cell_type": "code",
      "source": [
        "df.isna().sum()"
      ],
      "metadata": {
        "colab": {
          "base_uri": "https://localhost:8080/",
          "height": 0
        },
        "id": "fcnHRERNGlvq",
        "outputId": "000bd596-6842-4534-d2c4-9c800905ac8e"
      },
      "execution_count": 81,
      "outputs": [
        {
          "output_type": "execute_result",
          "data": {
            "text/plain": [
              "outlook     0\n",
              "temp        0\n",
              "humidity    0\n",
              "wind        0\n",
              "tennis      0\n",
              "dtype: int64"
            ]
          },
          "metadata": {},
          "execution_count": 81
        }
      ]
    },
    {
      "cell_type": "code",
      "source": [
        "df.shape"
      ],
      "metadata": {
        "colab": {
          "base_uri": "https://localhost:8080/",
          "height": 0
        },
        "id": "4RTiIGswGoiq",
        "outputId": "559208b2-9b83-4dd5-b970-e35c3638841e"
      },
      "execution_count": 82,
      "outputs": [
        {
          "output_type": "execute_result",
          "data": {
            "text/plain": [
              "(14, 5)"
            ]
          },
          "metadata": {},
          "execution_count": 82
        }
      ]
    },
    {
      "cell_type": "code",
      "source": [
        "def totalEntropy(df, target):\n",
        "    possibilities = df[target].unique()\n",
        "    entropy = 0\n",
        "\n",
        "    for answer in possibilities:\n",
        "        P = df[target].value_counts()[answer] / len(df[target])\n",
        "        entropy += -P * np.log2(P)\n",
        "\n",
        "    return entropy"
      ],
      "metadata": {
        "id": "L-XbXwdD4mdB"
      },
      "execution_count": 6,
      "outputs": []
    },
    {
      "cell_type": "code",
      "source": [
        "totalEntropy(df,'tennis')"
      ],
      "metadata": {
        "colab": {
          "base_uri": "https://localhost:8080/",
          "height": 0
        },
        "id": "hqBwJFVdDiMC",
        "outputId": "a225cba0-94cc-4f31-df28-280dfb2d15fa"
      },
      "execution_count": 62,
      "outputs": [
        {
          "output_type": "execute_result",
          "data": {
            "text/plain": [
              "0.9402859586706311"
            ]
          },
          "metadata": {},
          "execution_count": 62
        }
      ]
    },
    {
      "cell_type": "code",
      "source": [
        "def informationGain(df, attribute, target):\n",
        "    total_entropy = totalEntropy(df, target)\n",
        "\n",
        "    # weighted average entropy after the split\n",
        "    weighted_entropy = 0\n",
        "    values = df[attribute].unique()\n",
        "\n",
        "    for value in values:\n",
        "        subset = df[df[attribute] == value]\n",
        "        weight = len(subset) / len(df)\n",
        "        weighted_entropy += weight * totalEntropy(subset, target)\n",
        "    information_gain = total_entropy - weighted_entropy\n",
        "    return information_gain"
      ],
      "metadata": {
        "id": "EgHTFXNZ4z3H"
      },
      "execution_count": 7,
      "outputs": []
    },
    {
      "cell_type": "code",
      "source": [
        "def AttrEntropy(df, attr):\n",
        "    target = df.keys()[-1]\n",
        "    targVars = df[target].unique()\n",
        "    attrVars = df[attr].unique()\n",
        "    entropy2 = 0\n",
        "\n",
        "    for variable in attrVars:\n",
        "        entropy = 0\n",
        "\n",
        "        for ans in targVars:\n",
        "            numerator = len(df[attr][df[attr] == variable][df[target] == ans])\n",
        "            denominator = len(df[attr][df[attr] == variable])\n",
        "\n",
        "            P = numerator / denominator\n",
        "\n",
        "            if P == 0:\n",
        "                entropy += 0\n",
        "            else:\n",
        "                entropy += -P * np.log2(P)\n",
        "\n",
        "        P2 = denominator / len(df)\n",
        "        entropy2 += -P2 * entropy\n",
        "\n",
        "    return abs(entropy2)\n"
      ],
      "metadata": {
        "id": "dcKYOr3-47Cw"
      },
      "execution_count": 8,
      "outputs": []
    },
    {
      "cell_type": "code",
      "source": [
        "AttrEntropy(df, attr=\"outlook\")"
      ],
      "metadata": {
        "colab": {
          "base_uri": "https://localhost:8080/",
          "height": 0
        },
        "id": "nmt0aTLIECrT",
        "outputId": "7d14a577-fd49-4db0-c234-5d80742c810f"
      },
      "execution_count": 64,
      "outputs": [
        {
          "output_type": "execute_result",
          "data": {
            "text/plain": [
              "0.6935361388961918"
            ]
          },
          "metadata": {},
          "execution_count": 64
        }
      ]
    },
    {
      "cell_type": "code",
      "source": [
        "AttrEntropy(df, attr=\"temp\")"
      ],
      "metadata": {
        "colab": {
          "base_uri": "https://localhost:8080/",
          "height": 0
        },
        "id": "E7FcBD_eEHaR",
        "outputId": "f17df8e8-ccfd-4c64-e27c-4149ca5da1d9"
      },
      "execution_count": 66,
      "outputs": [
        {
          "output_type": "execute_result",
          "data": {
            "text/plain": [
              "0.9110633930116763"
            ]
          },
          "metadata": {},
          "execution_count": 66
        }
      ]
    },
    {
      "cell_type": "code",
      "source": [
        "AttrEntropy(df, attr=\"wind\")"
      ],
      "metadata": {
        "colab": {
          "base_uri": "https://localhost:8080/",
          "height": 0
        },
        "id": "VLPgy9TyEPfJ",
        "outputId": "6f189771-d3f2-41e1-859b-66b85d9ce0db"
      },
      "execution_count": 68,
      "outputs": [
        {
          "output_type": "execute_result",
          "data": {
            "text/plain": [
              "0.8921589282623617"
            ]
          },
          "metadata": {},
          "execution_count": 68
        }
      ]
    },
    {
      "cell_type": "code",
      "source": [
        "AttrEntropy(df, attr=\"humidity\")"
      ],
      "metadata": {
        "colab": {
          "base_uri": "https://localhost:8080/",
          "height": 0
        },
        "id": "XUccnb88EVSR",
        "outputId": "d1983b19-bbe2-4acb-ae12-2f1727f76817"
      },
      "execution_count": 69,
      "outputs": [
        {
          "output_type": "execute_result",
          "data": {
            "text/plain": [
              "0.7884504573082896"
            ]
          },
          "metadata": {},
          "execution_count": 69
        }
      ]
    },
    {
      "cell_type": "code",
      "source": [
        "class DecisionTreeNode:\n",
        "    def __init__(self, attribute=None, value=None, result=None, left=None, right=None):\n",
        "        self.attribute = attribute\n",
        "        self.value = value\n",
        "        self.result = result\n",
        "        self.left = left\n",
        "        self.right = right"
      ],
      "metadata": {
        "id": "CXSheFkcEcfi"
      },
      "execution_count": 70,
      "outputs": []
    },
    {
      "cell_type": "code",
      "source": [
        "def buildDecisionTree(df, attributes, target, depth=0, max_depth=float('inf')):\n",
        "    if should_stop_growing(depth, max_depth):\n",
        "        return DecisionTreeNode(result=df[target].mode().iloc[0])\n",
        "\n",
        "    best_attribute = max(attributes, key=lambda attr: informationGain(df, attr, target))\n",
        "    node = DecisionTreeNode(attribute=best_attribute, value=None, result=None, left=None, right=None)\n",
        "\n",
        "    for value in df[best_attribute].unique():\n",
        "        subset = df[df[best_attribute] == value]\n",
        "        if len(subset) == 0:\n",
        "            child_node = DecisionTreeNode(result=df[target].mode().iloc[0])\n",
        "        else:\n",
        "            child_node = buildDecisionTree(subset, attributes, target, depth=depth+1, max_depth=max_depth)\n",
        "\n",
        "        if node.left is None:\n",
        "            node.left = child_node\n",
        "            node.value = value\n",
        "        else:\n",
        "            node.right = child_node\n",
        "\n",
        "    return node\n"
      ],
      "metadata": {
        "id": "9arf5eDwEccR"
      },
      "execution_count": 71,
      "outputs": []
    },
    {
      "cell_type": "code",
      "source": [
        "def predict(node, instance):\n",
        "    if node.result is not None:\n",
        "        return node.result\n",
        "    else:\n",
        "        attribute_value = instance.get(node.attribute, None)\n",
        "\n",
        "        if attribute_value is not None and attribute_value == node.value:\n",
        "            return predict(node.left, instance)\n",
        "        elif attribute_value is not None:\n",
        "            return predict(node.right, instance)\n",
        "        else:\n",
        "            return None\n"
      ],
      "metadata": {
        "id": "U8W22PPHEcZQ"
      },
      "execution_count": 72,
      "outputs": []
    },
    {
      "cell_type": "code",
      "source": [
        "X = df[['outlook', 'temp', 'humidity', 'wind']]\n",
        "y = df['tennis']"
      ],
      "metadata": {
        "id": "Jl4l8BdN6ezg"
      },
      "execution_count": 74,
      "outputs": []
    },
    {
      "cell_type": "code",
      "source": [
        "root_node = buildDecisionTree(pd.concat([X, y], axis=1), list(X.columns), 'tennis', max_depth=3)"
      ],
      "metadata": {
        "id": "ysdW99Jq7bDO"
      },
      "execution_count": 75,
      "outputs": []
    },
    {
      "cell_type": "code",
      "source": [
        "case1 = {'outlook': 'sunny', 'temp': 'hot', 'humidity': 'high', 'wind': 'weak'}\n",
        "\n",
        "predicted_result = predict(root_node, case1)\n",
        "print(\"Predicted Result:\", predicted_result)"
      ],
      "metadata": {
        "colab": {
          "base_uri": "https://localhost:8080/",
          "height": 0
        },
        "id": "7rmfGpxv7ecA",
        "outputId": "9bef4b90-af93-42ff-abd2-82dc81d5e5f5"
      },
      "execution_count": 76,
      "outputs": [
        {
          "output_type": "stream",
          "name": "stdout",
          "text": [
            "Predicted Result: no\n"
          ]
        }
      ]
    },
    {
      "cell_type": "code",
      "source": [
        "case1 = {'outlook': 'rain', 'temp': 'mild', 'humidity': 'high', 'wind': 'weak'}\n",
        "\n",
        "predicted_result = predict(root_node, case1)\n",
        "print(\"Predicted Result:\", predicted_result)"
      ],
      "metadata": {
        "colab": {
          "base_uri": "https://localhost:8080/",
          "height": 0
        },
        "id": "XrtE2Y9TB2g9",
        "outputId": "15c4e30a-f2e6-42f6-d4ad-3cd1005245dc"
      },
      "execution_count": 78,
      "outputs": [
        {
          "output_type": "stream",
          "name": "stdout",
          "text": [
            "Predicted Result: yes\n"
          ]
        }
      ]
    },
    {
      "cell_type": "code",
      "source": [],
      "metadata": {
        "id": "2TGRN4IZGOim"
      },
      "execution_count": null,
      "outputs": []
    }
  ]
}