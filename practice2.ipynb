{
 "cells": [
  {
   "cell_type": "code",
   "execution_count": 1,
   "id": "8ce34341",
   "metadata": {},
   "outputs": [
    {
     "name": "stdout",
     "output_type": "stream",
     "text": [
      "Practice 2\n"
     ]
    }
   ],
   "source": [
    "print(\"Practice 2\")"
   ]
  },
  {
   "cell_type": "code",
   "execution_count": 11,
   "id": "295b72da",
   "metadata": {},
   "outputs": [],
   "source": [
    "import numpy as np\n",
    "import pandas as pd\n",
    "import matplotlib.pyplot as plt\n",
    "import seaborn as sns"
   ]
  },
  {
   "cell_type": "code",
   "execution_count": 3,
   "id": "5a604dae",
   "metadata": {},
   "outputs": [],
   "source": [
    "df = pd.read_csv(\"mobiles.csv\")"
   ]
  },
  {
   "cell_type": "code",
   "execution_count": 4,
   "id": "6a3091af",
   "metadata": {},
   "outputs": [
    {
     "data": {
      "text/html": [
       "<div>\n",
       "<style scoped>\n",
       "    .dataframe tbody tr th:only-of-type {\n",
       "        vertical-align: middle;\n",
       "    }\n",
       "\n",
       "    .dataframe tbody tr th {\n",
       "        vertical-align: top;\n",
       "    }\n",
       "\n",
       "    .dataframe thead th {\n",
       "        text-align: right;\n",
       "    }\n",
       "</style>\n",
       "<table border=\"1\" class=\"dataframe\">\n",
       "  <thead>\n",
       "    <tr style=\"text-align: right;\">\n",
       "      <th></th>\n",
       "      <th>mobile_name</th>\n",
       "      <th>price</th>\n",
       "      <th>rating</th>\n",
       "      <th>specs_score</th>\n",
       "      <th>connectivity</th>\n",
       "      <th>processor</th>\n",
       "      <th>storage</th>\n",
       "      <th>battery</th>\n",
       "      <th>display</th>\n",
       "      <th>camera</th>\n",
       "      <th>extra_storage</th>\n",
       "      <th>os</th>\n",
       "    </tr>\n",
       "  </thead>\n",
       "  <tbody>\n",
       "    <tr>\n",
       "      <th>0</th>\n",
       "      <td>OPPO Reno 11</td>\n",
       "      <td>₹29,990</td>\n",
       "      <td>4.70</td>\n",
       "      <td>86.0</td>\n",
       "      <td>Dual Sim, 3G, 4G, 5G, VoLTE, Wi-Fi, NFC, IR Bl...</td>\n",
       "      <td>Dimensity 8200, Octa Core, 3.1 GHz Processor</td>\n",
       "      <td>8 GB RAM, 256 GB inbuilt</td>\n",
       "      <td>4800 mAh Battery with 67W Fast Charging</td>\n",
       "      <td>6.7 inches, 1080 x 2412 px, 120 Hz Display wit...</td>\n",
       "      <td>50 MP + 32 MP + 8 MP Triple Rear &amp; 32 MP Front...</td>\n",
       "      <td>Android v14</td>\n",
       "      <td>No FM Radio</td>\n",
       "    </tr>\n",
       "    <tr>\n",
       "      <th>1</th>\n",
       "      <td>Poco X6 Pro 5G</td>\n",
       "      <td>₹19,999</td>\n",
       "      <td>4.50</td>\n",
       "      <td>84.0</td>\n",
       "      <td>Dual Sim, 3G, 4G, 5G, VoLTE, Wi-Fi, NFC, IR Bl...</td>\n",
       "      <td>Dimensity 8300 Ultra, Octa Core, 3.35 GHz Proc...</td>\n",
       "      <td>12 GB RAM, 256 GB inbuilt</td>\n",
       "      <td>5500 mAh Battery with 90W Fast Charging</td>\n",
       "      <td>6.67 inches, 1220 x 2712 px, 120 Hz Display wi...</td>\n",
       "      <td>64 MP + 8 MP + 2 MP Triple Rear &amp; 16 MP Front ...</td>\n",
       "      <td>Android v14</td>\n",
       "      <td>No FM Radio</td>\n",
       "    </tr>\n",
       "    <tr>\n",
       "      <th>2</th>\n",
       "      <td>Xiaomi Redmi Note 13 Pro Plus</td>\n",
       "      <td>₹31,999</td>\n",
       "      <td>4.35</td>\n",
       "      <td>87.0</td>\n",
       "      <td>Dual Sim, 3G, 4G, 5G, VoLTE, Wi-Fi, NFC, IR Bl...</td>\n",
       "      <td>Dimensity 7200 Ultra, Octa Core, 2.8 GHz Proce...</td>\n",
       "      <td>8 GB RAM, 256 GB inbuilt</td>\n",
       "      <td>5000 mAh Battery with 120W Fast Charging</td>\n",
       "      <td>6.67 inches, 1220 x 2712 px, 120 Hz Display wi...</td>\n",
       "      <td>200 MP + 8 MP + 2 MP Triple Rear &amp; 16 MP Front...</td>\n",
       "      <td>Memory Card Not Supported</td>\n",
       "      <td>Android v13</td>\n",
       "    </tr>\n",
       "    <tr>\n",
       "      <th>3</th>\n",
       "      <td>OPPO Reno 11 Pro</td>\n",
       "      <td>₹40,990</td>\n",
       "      <td>4.75</td>\n",
       "      <td>88.0</td>\n",
       "      <td>Dual Sim, 3G, 4G, 5G, VoLTE, Wi-Fi, NFC, IR Bl...</td>\n",
       "      <td>Dimensity 8200, Octa Core, 3.1 GHz Processor</td>\n",
       "      <td>12 GB RAM, 256 GB inbuilt</td>\n",
       "      <td>4600 mAh Battery with 80W Fast Charging</td>\n",
       "      <td>6.74 inches, 1240 x 2772 px, 120 Hz Display wi...</td>\n",
       "      <td>50 MP + 32 MP + 8 MP Triple Rear &amp; 32 MP Front...</td>\n",
       "      <td>Android v14</td>\n",
       "      <td>No FM Radio</td>\n",
       "    </tr>\n",
       "    <tr>\n",
       "      <th>4</th>\n",
       "      <td>Xiaomi Redmi Note 13 Pro Max 5G</td>\n",
       "      <td>₹33,999</td>\n",
       "      <td>4.00</td>\n",
       "      <td>87.0</td>\n",
       "      <td>Dual Sim, 3G, 4G, 5G, VoLTE, Wi-Fi, NFC, IR Bl...</td>\n",
       "      <td>Snapdragon 7 Gen1, Octa Core, 2.4 GHz Processor</td>\n",
       "      <td>12 GB RAM, 256 GB inbuilt</td>\n",
       "      <td>5200 mAh Battery with 120W Fast Charging</td>\n",
       "      <td>6.67 inches, 1220 x 2712 px, 144 Hz Display wi...</td>\n",
       "      <td>200 MP + 13 MP + 8 MP Triple Rear &amp; 32 MP Fron...</td>\n",
       "      <td>Memory Card Not Supported</td>\n",
       "      <td>Android v13</td>\n",
       "    </tr>\n",
       "  </tbody>\n",
       "</table>\n",
       "</div>"
      ],
      "text/plain": [
       "                       mobile_name    price  rating  specs_score  \\\n",
       "0                     OPPO Reno 11  ₹29,990    4.70         86.0   \n",
       "1                   Poco X6 Pro 5G  ₹19,999    4.50         84.0   \n",
       "2    Xiaomi Redmi Note 13 Pro Plus  ₹31,999    4.35         87.0   \n",
       "3                 OPPO Reno 11 Pro  ₹40,990    4.75         88.0   \n",
       "4  Xiaomi Redmi Note 13 Pro Max 5G  ₹33,999    4.00         87.0   \n",
       "\n",
       "                                        connectivity  \\\n",
       "0  Dual Sim, 3G, 4G, 5G, VoLTE, Wi-Fi, NFC, IR Bl...   \n",
       "1  Dual Sim, 3G, 4G, 5G, VoLTE, Wi-Fi, NFC, IR Bl...   \n",
       "2  Dual Sim, 3G, 4G, 5G, VoLTE, Wi-Fi, NFC, IR Bl...   \n",
       "3  Dual Sim, 3G, 4G, 5G, VoLTE, Wi-Fi, NFC, IR Bl...   \n",
       "4  Dual Sim, 3G, 4G, 5G, VoLTE, Wi-Fi, NFC, IR Bl...   \n",
       "\n",
       "                                           processor  \\\n",
       "0       Dimensity 8200, Octa Core, 3.1 GHz Processor   \n",
       "1  Dimensity 8300 Ultra, Octa Core, 3.35 GHz Proc...   \n",
       "2  Dimensity 7200 Ultra, Octa Core, 2.8 GHz Proce...   \n",
       "3       Dimensity 8200, Octa Core, 3.1 GHz Processor   \n",
       "4    Snapdragon 7 Gen1, Octa Core, 2.4 GHz Processor   \n",
       "\n",
       "                     storage                                   battery  \\\n",
       "0   8 GB RAM, 256 GB inbuilt   4800 mAh Battery with 67W Fast Charging   \n",
       "1  12 GB RAM, 256 GB inbuilt   5500 mAh Battery with 90W Fast Charging   \n",
       "2   8 GB RAM, 256 GB inbuilt  5000 mAh Battery with 120W Fast Charging   \n",
       "3  12 GB RAM, 256 GB inbuilt   4600 mAh Battery with 80W Fast Charging   \n",
       "4  12 GB RAM, 256 GB inbuilt  5200 mAh Battery with 120W Fast Charging   \n",
       "\n",
       "                                             display  \\\n",
       "0  6.7 inches, 1080 x 2412 px, 120 Hz Display wit...   \n",
       "1  6.67 inches, 1220 x 2712 px, 120 Hz Display wi...   \n",
       "2  6.67 inches, 1220 x 2712 px, 120 Hz Display wi...   \n",
       "3  6.74 inches, 1240 x 2772 px, 120 Hz Display wi...   \n",
       "4  6.67 inches, 1220 x 2712 px, 144 Hz Display wi...   \n",
       "\n",
       "                                              camera  \\\n",
       "0  50 MP + 32 MP + 8 MP Triple Rear & 32 MP Front...   \n",
       "1  64 MP + 8 MP + 2 MP Triple Rear & 16 MP Front ...   \n",
       "2  200 MP + 8 MP + 2 MP Triple Rear & 16 MP Front...   \n",
       "3  50 MP + 32 MP + 8 MP Triple Rear & 32 MP Front...   \n",
       "4  200 MP + 13 MP + 8 MP Triple Rear & 32 MP Fron...   \n",
       "\n",
       "               extra_storage           os  \n",
       "0                Android v14  No FM Radio  \n",
       "1                Android v14  No FM Radio  \n",
       "2  Memory Card Not Supported  Android v13  \n",
       "3                Android v14  No FM Radio  \n",
       "4  Memory Card Not Supported  Android v13  "
      ]
     },
     "execution_count": 4,
     "metadata": {},
     "output_type": "execute_result"
    }
   ],
   "source": [
    "df.head()"
   ]
  },
  {
   "cell_type": "code",
   "execution_count": 5,
   "id": "030ca137",
   "metadata": {},
   "outputs": [
    {
     "data": {
      "text/plain": [
       "mobile_name        0\n",
       "price              0\n",
       "rating             0\n",
       "specs_score      155\n",
       "connectivity       0\n",
       "processor          0\n",
       "storage            0\n",
       "battery            0\n",
       "display            0\n",
       "camera             0\n",
       "extra_storage      3\n",
       "os                11\n",
       "dtype: int64"
      ]
     },
     "execution_count": 5,
     "metadata": {},
     "output_type": "execute_result"
    }
   ],
   "source": [
    "df.isna().sum()"
   ]
  },
  {
   "cell_type": "code",
   "execution_count": 6,
   "id": "e510989c",
   "metadata": {},
   "outputs": [
    {
     "data": {
      "text/plain": [
       "(1020, 12)"
      ]
     },
     "execution_count": 6,
     "metadata": {},
     "output_type": "execute_result"
    }
   ],
   "source": [
    "df.shape"
   ]
  },
  {
   "cell_type": "code",
   "execution_count": 7,
   "id": "1e2be112",
   "metadata": {},
   "outputs": [
    {
     "data": {
      "text/plain": [
       "mobile_name      0.000000\n",
       "price            0.000000\n",
       "rating           0.000000\n",
       "specs_score      0.151961\n",
       "connectivity     0.000000\n",
       "processor        0.000000\n",
       "storage          0.000000\n",
       "battery          0.000000\n",
       "display          0.000000\n",
       "camera           0.000000\n",
       "extra_storage    0.002941\n",
       "os               0.010784\n",
       "dtype: float64"
      ]
     },
     "execution_count": 7,
     "metadata": {},
     "output_type": "execute_result"
    }
   ],
   "source": [
    "df.isna().sum() / len(df)"
   ]
  },
  {
   "cell_type": "code",
   "execution_count": 24,
   "id": "63213dca",
   "metadata": {},
   "outputs": [],
   "source": [
    "df.drop(['specs_score'],axis=1,inplace=True)"
   ]
  },
  {
   "cell_type": "code",
   "execution_count": 8,
   "id": "f3da94ce",
   "metadata": {},
   "outputs": [
    {
     "data": {
      "text/plain": [
       "'₹29,990'"
      ]
     },
     "execution_count": 8,
     "metadata": {},
     "output_type": "execute_result"
    }
   ],
   "source": [
    "df['price'][0]"
   ]
  },
  {
   "cell_type": "code",
   "execution_count": 11,
   "id": "f9b3e3f6",
   "metadata": {},
   "outputs": [],
   "source": [
    "df['price'] = df['price'].str.replace('₹', '')  # Remove currency symbol\n",
    "df['price'] = df['price'].str.replace(',', '')  # Remove commas\n",
    "df['price'] = df['price'].astype(float)  # Convert to float"
   ]
  },
  {
   "cell_type": "code",
   "execution_count": 16,
   "id": "4a8cce6d",
   "metadata": {},
   "outputs": [
    {
     "data": {
      "image/png": "[encoded data removed]",
      "text/plain": [
       "<Figure size 800x600 with 1 Axes>"
      ]
     },
     "metadata": {},
     "output_type": "display_data"
    }
   ],
   "source": [
    "plt.figure(figsize=(8,6))\n",
    "plt.hist(df['price'],bins=100)\n",
    "plt.show()"
   ]
  },
  {
   "cell_type": "code",
   "execution_count": 17,
   "id": "f62cd0f5",
   "metadata": {
    "scrolled": true
   },
   "outputs": [
    {
     "data": {
      "text/plain": [
       "Android v13                           291\n",
       "No FM Radio                           244\n",
       "Android v12                           169\n",
       "Android v11                            87\n",
       "Android v14                            63\n",
       "Bluetooth                              52\n",
       "Memory Card Not Supported              17\n",
       "iOS v17                                13\n",
       "Android v10                            10\n",
       "Android v9.0 (Pie)                      8\n",
       "iOS v15                                 6\n",
       "Android v10.0                           5\n",
       "iOS v18                                 4\n",
       "iOS v16                                 4\n",
       "Android v15                             4\n",
       "Hongmeng OS v4.0                        2\n",
       "Android v8.1 (Oreo)                     2\n",
       "Memory Card Supported, upto 32 GB       2\n",
       "Android v11.0                           2\n",
       "iOS v13.0                               2\n",
       "iOS v13                                 2\n",
       "HarmonyOS v2                            1\n",
       "KAI OS                                  1\n",
       "Symbian v9.1                            1\n",
       "Android v4.4 (KitKat)                   1\n",
       "Android v5.1 (Lollipop)                 1\n",
       "Browser                                 1\n",
       "Memory Card (Hybrid), upto 2 TB         1\n",
       "RTOS (Series 30+)                       1\n",
       "Mocor                                   1\n",
       "iOS v19                                 1\n",
       "Android v12.1                           1\n",
       "iOS v20                                 1\n",
       "HarmonyOS v4                            1\n",
       "0.3 MP Rear Camera                      1\n",
       "v30                                     1\n",
       "iOS v12.3                               1\n",
       "Memory Card Supported, upto 128 GB      1\n",
       "Memory Card Supported                   1\n",
       "HarmonyOS v3.1                          1\n",
       "Memory Card Supported, upto 64 GB       1\n",
       "Name: os, dtype: int64"
      ]
     },
     "execution_count": 17,
     "metadata": {},
     "output_type": "execute_result"
    }
   ],
   "source": [
    "df['os'].value_counts()"
   ]
  },
  {
   "cell_type": "code",
   "execution_count": 18,
   "id": "33c69d0a",
   "metadata": {},
   "outputs": [],
   "source": [
    "df['os'].fillna(df['os'].mode()[0],inplace=True)"
   ]
  },
  {
   "cell_type": "code",
   "execution_count": 20,
   "id": "578a3524",
   "metadata": {},
   "outputs": [
    {
     "data": {
      "text/plain": [
       "Memory Card Supported, upto 1 TB                                       215\n",
       "Android v13                                                            133\n",
       "Memory Card (Hybrid), upto 1 TB                                        123\n",
       "Memory Card Not Supported                                              115\n",
       "Android v12                                                             62\n",
       "                                                                      ... \n",
       "v1.7                                                                     1\n",
       "Memory Card Supported, upto 1000 GB                                      1\n",
       "50 MP + 50 MP Dual Rear & 16 MP Front Camera                             1\n",
       "50 MP + 50 MP + 32 MP Triple Rear & 12 MP + 12 MP Dual Front Camera      1\n",
       "108 MP + 13 MP + 8 MP Triple Rear & 20 MP Front Camera                   1\n",
       "Name: extra_storage, Length: 73, dtype: int64"
      ]
     },
     "execution_count": 20,
     "metadata": {},
     "output_type": "execute_result"
    }
   ],
   "source": [
    "df['extra_storage'].value_counts()"
   ]
  },
  {
   "cell_type": "code",
   "execution_count": 21,
   "id": "5effa2f3",
   "metadata": {},
   "outputs": [],
   "source": [
    "df['extra_storage'].fillna(df['extra_storage'].mode()[0],inplace=True)"
   ]
  },
  {
   "cell_type": "code",
   "execution_count": 25,
   "id": "254c0575",
   "metadata": {},
   "outputs": [
    {
     "data": {
      "text/plain": [
       "mobile_name      0.0\n",
       "price            0.0\n",
       "rating           0.0\n",
       "connectivity     0.0\n",
       "processor        0.0\n",
       "storage          0.0\n",
       "battery          0.0\n",
       "display          0.0\n",
       "camera           0.0\n",
       "extra_storage    0.0\n",
       "os               0.0\n",
       "dtype: float64"
      ]
     },
     "execution_count": 25,
     "metadata": {},
     "output_type": "execute_result"
    }
   ],
   "source": [
    "df.isna().sum() / len(df)"
   ]
  },
  {
   "cell_type": "code",
   "execution_count": 26,
   "id": "43a2c328",
   "metadata": {},
   "outputs": [],
   "source": [
    "# cleaned "
   ]
  },
  {
   "cell_type": "code",
   "execution_count": 27,
   "id": "50b13f75",
   "metadata": {},
   "outputs": [],
   "source": [
    "from sklearn.preprocessing import LabelEncoder\n",
    "le = LabelEncoder()\n",
    "for col in df.columns:\n",
    "    if df[col].dtype == 'O':\n",
    "        df[col]=le.fit_transform(df[col])"
   ]
  },
  {
   "cell_type": "code",
   "execution_count": 28,
   "id": "44ca504a",
   "metadata": {},
   "outputs": [
    {
     "data": {
      "text/html": [
       "<div>\n",
       "<style scoped>\n",
       "    .dataframe tbody tr th:only-of-type {\n",
       "        vertical-align: middle;\n",
       "    }\n",
       "\n",
       "    .dataframe tbody tr th {\n",
       "        vertical-align: top;\n",
       "    }\n",
       "\n",
       "    .dataframe thead th {\n",
       "        text-align: right;\n",
       "    }\n",
       "</style>\n",
       "<table border=\"1\" class=\"dataframe\">\n",
       "  <thead>\n",
       "    <tr style=\"text-align: right;\">\n",
       "      <th></th>\n",
       "      <th>mobile_name</th>\n",
       "      <th>price</th>\n",
       "      <th>rating</th>\n",
       "      <th>connectivity</th>\n",
       "      <th>processor</th>\n",
       "      <th>storage</th>\n",
       "      <th>battery</th>\n",
       "      <th>display</th>\n",
       "      <th>camera</th>\n",
       "      <th>extra_storage</th>\n",
       "      <th>os</th>\n",
       "    </tr>\n",
       "  </thead>\n",
       "  <tbody>\n",
       "    <tr>\n",
       "      <th>0</th>\n",
       "      <td>314</td>\n",
       "      <td>29990.0</td>\n",
       "      <td>4.70</td>\n",
       "      <td>10</td>\n",
       "      <td>69</td>\n",
       "      <td>47</td>\n",
       "      <td>131</td>\n",
       "      <td>220</td>\n",
       "      <td>174</td>\n",
       "      <td>40</td>\n",
       "      <td>28</td>\n",
       "    </tr>\n",
       "    <tr>\n",
       "      <th>1</th>\n",
       "      <td>443</td>\n",
       "      <td>19999.0</td>\n",
       "      <td>4.50</td>\n",
       "      <td>10</td>\n",
       "      <td>71</td>\n",
       "      <td>4</td>\n",
       "      <td>213</td>\n",
       "      <td>201</td>\n",
       "      <td>258</td>\n",
       "      <td>40</td>\n",
       "      <td>28</td>\n",
       "    </tr>\n",
       "    <tr>\n",
       "      <th>2</th>\n",
       "      <td>948</td>\n",
       "      <td>31999.0</td>\n",
       "      <td>4.35</td>\n",
       "      <td>10</td>\n",
       "      <td>56</td>\n",
       "      <td>47</td>\n",
       "      <td>151</td>\n",
       "      <td>201</td>\n",
       "      <td>90</td>\n",
       "      <td>53</td>\n",
       "      <td>7</td>\n",
       "    </tr>\n",
       "    <tr>\n",
       "      <th>3</th>\n",
       "      <td>315</td>\n",
       "      <td>40990.0</td>\n",
       "      <td>4.75</td>\n",
       "      <td>10</td>\n",
       "      <td>69</td>\n",
       "      <td>4</td>\n",
       "      <td>112</td>\n",
       "      <td>268</td>\n",
       "      <td>174</td>\n",
       "      <td>40</td>\n",
       "      <td>28</td>\n",
       "    </tr>\n",
       "    <tr>\n",
       "      <th>4</th>\n",
       "      <td>947</td>\n",
       "      <td>33999.0</td>\n",
       "      <td>4.00</td>\n",
       "      <td>10</td>\n",
       "      <td>204</td>\n",
       "      <td>4</td>\n",
       "      <td>199</td>\n",
       "      <td>202</td>\n",
       "      <td>81</td>\n",
       "      <td>53</td>\n",
       "      <td>7</td>\n",
       "    </tr>\n",
       "  </tbody>\n",
       "</table>\n",
       "</div>"
      ],
      "text/plain": [
       "   mobile_name    price  rating  connectivity  processor  storage  battery  \\\n",
       "0          314  29990.0    4.70            10         69       47      131   \n",
       "1          443  19999.0    4.50            10         71        4      213   \n",
       "2          948  31999.0    4.35            10         56       47      151   \n",
       "3          315  40990.0    4.75            10         69        4      112   \n",
       "4          947  33999.0    4.00            10        204        4      199   \n",
       "\n",
       "   display  camera  extra_storage  os  \n",
       "0      220     174             40  28  \n",
       "1      201     258             40  28  \n",
       "2      201      90             53   7  \n",
       "3      268     174             40  28  \n",
       "4      202      81             53   7  "
      ]
     },
     "execution_count": 28,
     "metadata": {},
     "output_type": "execute_result"
    }
   ],
   "source": [
    "df.head()"
   ]
  },
  {
   "cell_type": "code",
   "execution_count": 32,
   "id": "090eb4c1",
   "metadata": {},
   "outputs": [],
   "source": [
    "from sklearn.svm import SVR\n",
    "from sklearn.preprocessing import StandardScaler\n",
    "from sklearn.model_selection import train_test_split\n",
    "from sklearn.metrics import mean_squared_error"
   ]
  },
  {
   "cell_type": "code",
   "execution_count": 33,
   "id": "538687e9",
   "metadata": {},
   "outputs": [],
   "source": [
    "X = df.drop(['price'],axis=1)\n",
    "y = df['price']\n",
    "X_train , X_test , y_train,y_test = train_test_split(X,y,test_size = 0.3,random_state = 42)\n",
    "model = SVR()\n",
    "scaler = StandardScaler()\n",
    "X_train_scaled = scaler.fit_transform(X_train)\n",
    "X_test_scaled = scaler.transform(X_test)\n",
    "\n",
    "model.fit(X_train_scaled, y_train)\n",
    "\n",
    "y_pred = model.predict(X_test_scaled)"
   ]
  },
  {
   "cell_type": "code",
   "execution_count": 38,
   "id": "a46a7aa8",
   "metadata": {},
   "outputs": [],
   "source": [
    "from sklearn.metrics import r2_score\n",
    "r2 = r2_score(y_test, y_pred)"
   ]
  },
  {
   "cell_type": "code",
   "execution_count": 39,
   "id": "6816f64e",
   "metadata": {},
   "outputs": [
    {
     "data": {
      "text/plain": [
       "-0.060821095571126804"
      ]
     },
     "execution_count": 39,
     "metadata": {},
     "output_type": "execute_result"
    }
   ],
   "source": [
    "r2"
   ]
  },
  {
   "cell_type": "code",
   "execution_count": 40,
   "id": "21cc986d",
   "metadata": {},
   "outputs": [
    {
     "data": {
      "text/plain": [
       "20351.529696549336"
      ]
     },
     "execution_count": 40,
     "metadata": {},
     "output_type": "execute_result"
    }
   ],
   "source": [
    "from sklearn.metrics import mean_absolute_error\n",
    "mae = mean_absolute_error(y_test, y_pred)\n",
    "mae"
   ]
  },
  {
   "cell_type": "code",
   "execution_count": 36,
   "id": "50116709",
   "metadata": {},
   "outputs": [],
   "source": [
    "from sklearn.datasets import make_regression\n",
    "X,y = make_regression(n_samples=1000,n_features=1,noise=0.1)"
   ]
  },
  {
   "cell_type": "code",
   "execution_count": 37,
   "id": "689fdf38",
   "metadata": {},
   "outputs": [
    {
     "data": {
      "text/plain": [
       "(1000, 1)"
      ]
     },
     "execution_count": 37,
     "metadata": {},
     "output_type": "execute_result"
    }
   ],
   "source": [
    "X.shape"
   ]
  },
  {
   "cell_type": "code",
   "execution_count": 38,
   "id": "586fc435",
   "metadata": {},
   "outputs": [
    {
     "data": {
      "text/plain": [
       "(1000,)"
      ]
     },
     "execution_count": 38,
     "metadata": {},
     "output_type": "execute_result"
    }
   ],
   "source": [
    "y.shape"
   ]
  },
  {
   "cell_type": "code",
   "execution_count": 39,
   "id": "fa71901b",
   "metadata": {},
   "outputs": [
    {
     "name": "stdout",
     "output_type": "stream",
     "text": [
      "Mean Squared Error: 0.009901725970764245\n"
     ]
    }
   ],
   "source": [
    "from sklearn.linear_model import LinearRegression\n",
    "\n",
    "# Create an instance of the LinearRegression model\n",
    "model = LinearRegression()\n",
    "\n",
    "# Fit the model to the data\n",
    "model.fit(X, y)\n",
    "\n",
    "# Once the model is fitted, you can make predictions\n",
    "y_pred = model.predict(X)\n",
    "\n",
    "# Now you can evaluate the model using appropriate metrics\n",
    "# For example, you can calculate mean squared error (MSE)\n",
    "from sklearn.metrics import mean_squared_error\n",
    "mse = mean_squared_error(y, y_pred)\n",
    "print(\"Mean Squared Error:\", mse)"
   ]
  },
  {
   "cell_type": "code",
   "execution_count": 45,
   "id": "083498e8",
   "metadata": {},
   "outputs": [
    {
     "data": {
      "image/png": "[encoded data removed]",
      "text/plain": [
       "<Figure size 640x480 with 1 Axes>"
      ]
     },
     "metadata": {},
     "output_type": "display_data"
    }
   ],
   "source": [
    "plt.scatter(X, y)\n",
    "plt.xlabel('Feature 1')\n",
    "plt.ylabel('Target')\n",
    "plt.title('Scatter Plot of Synthetic Dataset')\n",
    "plt.show()"
   ]
  },
  {
   "cell_type": "code",
   "execution_count": 41,
   "id": "8ce1510f",
   "metadata": {},
   "outputs": [
    {
     "name": "stdout",
     "output_type": "stream",
     "text": [
      "y = 32.278876596752475x + -0.0062372173874620795\n"
     ]
    }
   ],
   "source": [
    "m1 = model.coef_[0]\n",
    "c1 = model.intercept_\n",
    "print(f\"y = {m1}x + {c1}\")"
   ]
  },
  {
   "cell_type": "code",
   "execution_count": 44,
   "id": "88231d70",
   "metadata": {},
   "outputs": [
    {
     "data": {
      "image/png": "[encoded data removed]",
      "text/plain": [
       "<Figure size 640x480 with 1 Axes>"
      ]
     },
     "metadata": {},
     "output_type": "display_data"
    }
   ],
   "source": [
    "plt.plot(X,y_pred,color='green')\n",
    "plt.scatter(X, y)\n",
    "plt.xlabel('Feature 1')\n",
    "plt.ylabel('Target')\n",
    "plt.title('Scatter Plot of Synthetic Dataset')\n",
    "plt.show()"
   ]
  },
  {
   "cell_type": "code",
   "execution_count": 52,
   "id": "94de7915",
   "metadata": {},
   "outputs": [],
   "source": [
    "class LR:\n",
    "    def fit(self, X, Y):\n",
    "        xsum = sum(X)\n",
    "        ysum = sum(Y)\n",
    "        xmean = xsum / len(X)\n",
    "        ymean = ysum / len(Y)\n",
    "        \n",
    "        xysum = 0\n",
    "        x2sum = 0\n",
    "        \n",
    "        for i in range(len(X)):\n",
    "            xysum += X[i] * Y[i]\n",
    "            x2sum += X[i] ** 2\n",
    "            \n",
    "        n = len(X)    \n",
    "        self.m = (n * xysum - xsum * ysum) / (n * x2sum - xsum ** 2)\n",
    "        self.c = (ysum - self.m * xsum) / len(X)\n",
    "        \n",
    "    def predict(self, X):\n",
    "        y_pred = []\n",
    "        for i in X:\n",
    "            y_pred.append(self.m * i + self.c)\n",
    "        return y_pred"
   ]
  },
  {
   "cell_type": "code",
   "execution_count": 53,
   "id": "56470679",
   "metadata": {},
   "outputs": [],
   "source": [
    "model = LR()\n",
    "model.fit(X,y)\n",
    "y_pred_model = model.predict(x1)"
   ]
  },
  {
   "cell_type": "code",
   "execution_count": 57,
   "id": "b08ac1e8",
   "metadata": {},
   "outputs": [
    {
     "data": {
      "image/png": "[encoded data removed]",
      "text/plain": [
       "<Figure size 640x480 with 1 Axes>"
      ]
     },
     "metadata": {},
     "output_type": "display_data"
    }
   ],
   "source": [
    "plt.plot(X,y_pred_model)\n",
    "plt.scatter(X,y)\n",
    "plt.title(\"Regressor line from scratch\")\n",
    "plt.show()"
   ]
  },
  {
   "cell_type": "code",
   "execution_count": 60,
   "id": "7b1b1f3f",
   "metadata": {},
   "outputs": [
    {
     "name": "stdout",
     "output_type": "stream",
     "text": [
      "y = 32.2788765967525x + -0.0062372173874618965\n"
     ]
    }
   ],
   "source": [
    "m = model.m[0]\n",
    "c = model.c[0]\n",
    "print(f\"y = {m}x + {c}\")"
   ]
  },
  {
   "cell_type": "code",
   "execution_count": null,
   "id": "92a2023b",
   "metadata": {},
   "outputs": [],
   "source": []
  }
 ],
 "metadata": {
  "kernelspec": {
   "display_name": "Python 3 (ipykernel)",
   "language": "python",
   "name": "python3"
  },
  "language_info": {
   "codemirror_mode": {
    "name": "ipython",
    "version": 3
   },
   "file_extension": ".py",
   "mimetype": "text/x-python",
   "name": "python",
   "nbconvert_exporter": "python",
   "pygments_lexer": "ipython3",
   "version": "3.10.9"
  }
 },
 "nbformat": 4,
 "nbformat_minor": 5
}
